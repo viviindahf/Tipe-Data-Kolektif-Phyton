{
  "nbformat": 4,
  "nbformat_minor": 0,
  "metadata": {
    "colab": {
      "name": "Tugas Portofolio 2.ipynb",
      "provenance": [],
      "collapsed_sections": [],
      "include_colab_link": true
    },
    "kernelspec": {
      "name": "python3",
      "display_name": "Python 3"
    },
    "language_info": {
      "name": "python"
    }
  },
  "cells": [
    {
      "cell_type": "markdown",
      "metadata": {
        "id": "view-in-github",
        "colab_type": "text"
      },
      "source": [
        "<a href=\"https://colab.research.google.com/github/viviindahf/Tipe-Data-Kolektif-Phyton/blob/main/Tugas_Portofolio_2.ipynb\" target=\"_parent\"><img src=\"https://colab.research.google.com/assets/colab-badge.svg\" alt=\"Open In Colab\"/></a>"
      ]
    },
    {
      "cell_type": "markdown",
      "source": [
        "# **Collection Data Type In Phyton**"
      ],
      "metadata": {
        "id": "lVGiGRBKvRT6"
      }
    },
    {
      "cell_type": "markdown",
      "source": [
        "Python has 4 built-in data structures that can be used to hold a collection of objects. The built-in data structures are : list, tuple, set and dictionary. They can be distinguished into mutable, immutable, set type, and mappings respectively."
      ],
      "metadata": {
        "id": "3JIGduDqvZwI"
      }
    },
    {
      "cell_type": "markdown",
      "source": [
        "# Learning Objective"
      ],
      "metadata": {
        "id": "6irAYK9ftt-I"
      }
    },
    {
      "cell_type": "markdown",
      "source": [
        "* To understand what list, tuple, set, and dictionary are in Phyton\n",
        "* To find out the difference between each collective data type in python\n",
        "*   To learn how to use list, tuple, set, and dictionary in Python programs.\n",
        "*   To learn how to use indexing and slicing to access data in Python programs.\n",
        "\n",
        "\n",
        "\n"
      ],
      "metadata": {
        "id": "-nThv7zdt4WN"
      }
    },
    {
      "cell_type": "markdown",
      "source": [
        "# 1. Lists"
      ],
      "metadata": {
        "id": "YnbINIWAfbKP"
      }
    },
    {
      "cell_type": "markdown",
      "source": [
        "A list is a data structure in python that is a mutable, or changable, ordered sequence of elements. Each element or value that is inside of a list called an item. Just as strings are defined as characters between quotes, lists are defined by having values between square brackets."
      ],
      "metadata": {
        "id": "EtWUtOlFA7Wl"
      }
    },
    {
      "cell_type": "code",
      "source": [
        "University = [\"itb\",\"uns\",\"ugm\",\"undiksha\",\"binus\",\"unram\"]"
      ],
      "metadata": {
        "id": "7v6d1ygBA095"
      },
      "execution_count": 52,
      "outputs": []
    },
    {
      "cell_type": "code",
      "source": [
        "print(University)"
      ],
      "metadata": {
        "colab": {
          "base_uri": "https://localhost:8080/"
        },
        "id": "Fp3yg_XUJSSc",
        "outputId": "559ccd42-65ed-47b1-bcf9-5d992bcaad60"
      },
      "execution_count": 53,
      "outputs": [
        {
          "output_type": "stream",
          "name": "stdout",
          "text": [
            "['itb', 'uns', 'ugm', 'undiksha', 'binus', 'unram']\n"
          ]
        }
      ]
    },
    {
      "cell_type": "code",
      "source": [
        "print(University[2])"
      ],
      "metadata": {
        "colab": {
          "base_uri": "https://localhost:8080/"
        },
        "id": "3NYjMSTuKZ0z",
        "outputId": "6f907ee4-6a5f-44f2-c65c-915a6e69f157"
      },
      "execution_count": 54,
      "outputs": [
        {
          "output_type": "stream",
          "name": "stdout",
          "text": [
            "ugm\n"
          ]
        }
      ]
    },
    {
      "cell_type": "markdown",
      "source": [
        "**Append**\n",
        "\n",
        "Append is the method to adds an element at the end of the list."
      ],
      "metadata": {
        "id": "QsHYk4nV_K_H"
      }
    },
    {
      "cell_type": "code",
      "source": [
        "University.append(\"unair\")"
      ],
      "metadata": {
        "id": "HxXhF7loLv-x"
      },
      "execution_count": 55,
      "outputs": []
    },
    {
      "cell_type": "code",
      "source": [
        "print(University)"
      ],
      "metadata": {
        "colab": {
          "base_uri": "https://localhost:8080/"
        },
        "id": "GxoJ23B7CEng",
        "outputId": "25acb4d4-88ab-4637-8764-ca548cb3d6e1"
      },
      "execution_count": 56,
      "outputs": [
        {
          "output_type": "stream",
          "name": "stdout",
          "text": [
            "['itb', 'uns', 'ugm', 'undiksha', 'binus', 'unram', 'unair']\n"
          ]
        }
      ]
    },
    {
      "cell_type": "markdown",
      "source": [
        "**Extend**\n",
        "\n",
        "This method appends each element of the iterable (tuple, string, or list) to the end of the list and increases the length of the list by the number of elements of the iterable passed as an argument."
      ],
      "metadata": {
        "id": "UWwxemrFAT_x"
      }
    },
    {
      "cell_type": "code",
      "source": [
        "University.extend([\"telkom\",\"unpad\"])"
      ],
      "metadata": {
        "id": "wiDx-DgML4N8"
      },
      "execution_count": 57,
      "outputs": []
    },
    {
      "cell_type": "code",
      "source": [
        "print(University)"
      ],
      "metadata": {
        "colab": {
          "base_uri": "https://localhost:8080/"
        },
        "id": "Woc7uafECDvw",
        "outputId": "74e269d4-7e53-4739-bc9a-dc44b4a13cbb"
      },
      "execution_count": 58,
      "outputs": [
        {
          "output_type": "stream",
          "name": "stdout",
          "text": [
            "['itb', 'uns', 'ugm', 'undiksha', 'binus', 'unram', 'unair', 'telkom', 'unpad']\n"
          ]
        }
      ]
    },
    {
      "cell_type": "markdown",
      "source": [
        "**Insert**\n",
        "\n",
        "The element passed as the argument can be inserted at any desired position by passing the index along with it as a parameter."
      ],
      "metadata": {
        "id": "RIWSdZ-CA1bB"
      }
    },
    {
      "cell_type": "code",
      "source": [
        "University.insert(3,\"unud\")"
      ],
      "metadata": {
        "id": "03KD2t1KMHiI"
      },
      "execution_count": 59,
      "outputs": []
    },
    {
      "cell_type": "code",
      "source": [
        "print(University)"
      ],
      "metadata": {
        "colab": {
          "base_uri": "https://localhost:8080/"
        },
        "id": "Lx6pyV_nBTae",
        "outputId": "1cd8974c-8078-44fd-a82f-72f7d8af10f8"
      },
      "execution_count": 60,
      "outputs": [
        {
          "output_type": "stream",
          "name": "stdout",
          "text": [
            "['itb', 'uns', 'ugm', 'unud', 'undiksha', 'binus', 'unram', 'unair', 'telkom', 'unpad']\n"
          ]
        }
      ]
    },
    {
      "cell_type": "markdown",
      "source": [
        "**Remove**\n",
        "\n",
        "It removes the first matching element (which is passed as an argument) from the list."
      ],
      "metadata": {
        "id": "kHhf0wQRBeAF"
      }
    },
    {
      "cell_type": "code",
      "source": [
        "University.remove(\"ugm\")"
      ],
      "metadata": {
        "id": "4JjMuUC1Mnfq"
      },
      "execution_count": 61,
      "outputs": []
    },
    {
      "cell_type": "code",
      "source": [
        "print(University)"
      ],
      "metadata": {
        "colab": {
          "base_uri": "https://localhost:8080/"
        },
        "id": "MUPkibvCMycK",
        "outputId": "ce4ae7c4-2ad5-4c01-a1e5-8a8443477aca"
      },
      "execution_count": 62,
      "outputs": [
        {
          "output_type": "stream",
          "name": "stdout",
          "text": [
            "['itb', 'uns', 'unud', 'undiksha', 'binus', 'unram', 'unair', 'telkom', 'unpad']\n"
          ]
        }
      ]
    },
    {
      "cell_type": "markdown",
      "source": [
        "**Len**\n",
        "\n",
        "The len() function returns the length of the list."
      ],
      "metadata": {
        "id": "YOp1B52LB9FM"
      }
    },
    {
      "cell_type": "code",
      "source": [
        "len(University)"
      ],
      "metadata": {
        "colab": {
          "base_uri": "https://localhost:8080/"
        },
        "id": "UB1h_UfwOkX0",
        "outputId": "e4279402-11b8-46d4-f7b2-d084d52aaa4b"
      },
      "execution_count": 63,
      "outputs": [
        {
          "output_type": "execute_result",
          "data": {
            "text/plain": [
              "9"
            ]
          },
          "metadata": {},
          "execution_count": 63
        }
      ]
    },
    {
      "cell_type": "markdown",
      "source": [
        "**Sort**\n",
        "\n",
        "The sort() method sorts the elements of a given list in a specific ascending or descending order."
      ],
      "metadata": {
        "id": "p04ckTSeCiZE"
      }
    },
    {
      "cell_type": "code",
      "source": [
        "University.sort()"
      ],
      "metadata": {
        "id": "Tbgp7-_cOqoI"
      },
      "execution_count": 64,
      "outputs": []
    },
    {
      "cell_type": "code",
      "source": [
        "print(University)"
      ],
      "metadata": {
        "colab": {
          "base_uri": "https://localhost:8080/"
        },
        "id": "4srsfttuPE3O",
        "outputId": "6d611452-f519-4c4a-9dad-9fe4388a4639"
      },
      "execution_count": 65,
      "outputs": [
        {
          "output_type": "stream",
          "name": "stdout",
          "text": [
            "['binus', 'itb', 'telkom', 'unair', 'undiksha', 'unpad', 'unram', 'uns', 'unud']\n"
          ]
        }
      ]
    },
    {
      "cell_type": "markdown",
      "source": [
        "**Reverse**\n",
        "\n",
        "The reverse method use for reverse the list"
      ],
      "metadata": {
        "id": "7sbb_d8ID5-7"
      }
    },
    {
      "cell_type": "code",
      "source": [
        "University.reverse()"
      ],
      "metadata": {
        "id": "Lz4Z92oPPHbg"
      },
      "execution_count": 66,
      "outputs": []
    },
    {
      "cell_type": "code",
      "source": [
        "print(University)"
      ],
      "metadata": {
        "colab": {
          "base_uri": "https://localhost:8080/"
        },
        "id": "oQRcxEeaPOiy",
        "outputId": "b01df365-f5d4-4907-b362-d208c1adc2dd"
      },
      "execution_count": 67,
      "outputs": [
        {
          "output_type": "stream",
          "name": "stdout",
          "text": [
            "['unud', 'uns', 'unram', 'unpad', 'undiksha', 'unair', 'telkom', 'itb', 'binus']\n"
          ]
        }
      ]
    },
    {
      "cell_type": "markdown",
      "source": [
        "**Index**\n",
        "\n",
        "Returns the first index of a value in the list."
      ],
      "metadata": {
        "id": "qnhJftqQCZVe"
      }
    },
    {
      "cell_type": "code",
      "source": [
        "University.index(\"unpad\")"
      ],
      "metadata": {
        "colab": {
          "base_uri": "https://localhost:8080/"
        },
        "id": "22W8sBEvPTiC",
        "outputId": "566a6140-d84c-493c-8331-1a33b8b9f69c"
      },
      "execution_count": 68,
      "outputs": [
        {
          "output_type": "execute_result",
          "data": {
            "text/plain": [
              "3"
            ]
          },
          "metadata": {},
          "execution_count": 68
        }
      ]
    },
    {
      "cell_type": "code",
      "source": [
        "print(University)"
      ],
      "metadata": {
        "colab": {
          "base_uri": "https://localhost:8080/"
        },
        "id": "ZyRvHwQEClFO",
        "outputId": "7d2b37c3-ad88-4fc4-9464-849064c38596"
      },
      "execution_count": 69,
      "outputs": [
        {
          "output_type": "stream",
          "name": "stdout",
          "text": [
            "['unud', 'uns', 'unram', 'unpad', 'undiksha', 'unair', 'telkom', 'itb', 'binus']\n"
          ]
        }
      ]
    },
    {
      "cell_type": "markdown",
      "source": [
        "# 2. Slicing"
      ],
      "metadata": {
        "id": "7yJ943fGgX8m"
      }
    },
    {
      "cell_type": "markdown",
      "source": [
        "Slicing is a technique for selecting a data or some data from a data set.\n",
        "\n",
        "Slicing can be used in the use of number, string, list, or tuple data types."
      ],
      "metadata": {
        "id": "j2vV-tlGgmNH"
      }
    },
    {
      "cell_type": "markdown",
      "source": [
        "**Slicing In Number**"
      ],
      "metadata": {
        "id": "dZPqCa08nO11"
      }
    },
    {
      "cell_type": "code",
      "source": [
        "Height = 156, 170.4, 160, 167, 163.7, 172 "
      ],
      "metadata": {
        "id": "SJ-Wq0LKglRt"
      },
      "execution_count": 96,
      "outputs": []
    },
    {
      "cell_type": "code",
      "source": [
        "print(Height[2])      #This command will display the Height of the body in the index 2\n",
        "print(Height[:])      #This command indicates all the data in the list, because the index [:] shows all the data\n",
        "print(Height[1:3])    #In the use of slicing, the last order is not read. Thus the writing [1:3] executed is the index of the 1st to the 2nd\n",
        "print(Height[:4])     #command [:4] indicates that the data selected is from index 0 (as default) to 3rd index (because the 4th index is not readable)\n",
        "print(Height[0:6:2])  #This command indicates that the selected data is from index 0 to 6 where it will jump 2 index"
      ],
      "metadata": {
        "id": "zfkZ_nFAglgI",
        "colab": {
          "base_uri": "https://localhost:8080/"
        },
        "outputId": "a19516e9-bd5c-4a2b-b073-229ae7ce68c1"
      },
      "execution_count": 97,
      "outputs": [
        {
          "output_type": "stream",
          "name": "stdout",
          "text": [
            "160\n",
            "(156, 170.4, 160, 167, 163.7, 172)\n",
            "(170.4, 160)\n",
            "(156, 170.4, 160, 167)\n",
            "(156, 160, 163.7)\n"
          ]
        }
      ]
    },
    {
      "cell_type": "markdown",
      "source": [
        "*Slicing In String*\n",
        "\n",
        "Strings have similarities to list, so operators [] can also be used on strings to retrieve their contents or even substring. Whole strings are mutable, while elements are immutable."
      ],
      "metadata": {
        "id": "OCCwI-iM9fFD"
      }
    },
    {
      "cell_type": "code",
      "source": [
        "Job = \"Data Science and Data Analyst\""
      ],
      "metadata": {
        "id": "9ZurIjEE-LaB"
      },
      "execution_count": 95,
      "outputs": []
    },
    {
      "cell_type": "code",
      "source": [
        "print(Job[5])          #Take the fifth character from the Job string\n",
        "print(Job[:13])        #Take the index of characters 0 to 12th from the Job string\n",
        "print(Job[17:])        #Take the index of characters 17th to last from the Job string\n",
        "print(Job[-5])         #Take Take 5th character from the back of the Job string\n",
        "print(Job[-4:])        #Take the last 4 characters until they run out of the Job string\n",
        "print(Job[2:14:3])     #Take characters with index 2nd to 13th from Job string and each take jump 3 index"
      ],
      "metadata": {
        "colab": {
          "base_uri": "https://localhost:8080/"
        },
        "id": "xVKzwmzq-R80",
        "outputId": "13b7affa-4b41-4499-f6b5-7bce32a018c8"
      },
      "execution_count": 98,
      "outputs": [
        {
          "output_type": "stream",
          "name": "stdout",
          "text": [
            "S\n",
            "Data Science \n",
            "Data Analyst\n",
            "a\n",
            "lyst\n",
            "tSee\n"
          ]
        }
      ]
    },
    {
      "cell_type": "markdown",
      "source": [
        "*Slicing In List*"
      ],
      "metadata": {
        "id": "_2tcy0WaBd5i"
      }
    },
    {
      "cell_type": "code",
      "source": [
        "Biodata = [\"Neymar\", 20, 175.2, \"Bandung\", \"Microsoft Office Specialist\"]"
      ],
      "metadata": {
        "id": "0cgR5XO_BIxf"
      },
      "execution_count": 99,
      "outputs": []
    },
    {
      "cell_type": "code",
      "source": [
        "print(Biodata[2])    #Take the second index from the Biodata list\n",
        "print(Biodata[:1])   #Take the zero index from the Biodata list\n",
        "print(Biodata[-3])   #Take the index to three in reverse from Biodata list\n",
        "print(Biodata[0:7])  #Take the index 0 to 6 from the Biodata list. Although the Biodata only reaches the 3rd index, it will only display all existing lists."
      ],
      "metadata": {
        "id": "mtQ6C2RXC25D"
      },
      "execution_count": null,
      "outputs": []
    },
    {
      "cell_type": "markdown",
      "source": [
        "*Slicing In Tuple*"
      ],
      "metadata": {
        "id": "b5e476REE_Jj"
      }
    },
    {
      "cell_type": "code",
      "source": [
        "Pathway = (\"Data Science Track\", \"Career Ready Track\", \"Ms. Office Specialist Expert\", \"Adobe Certified Professional in Visual Design\", \"Adobe Certified Professional in Video Design\", \"21st Century Educator\")"
      ],
      "metadata": {
        "id": "KjhrEJ4hFHbj"
      },
      "execution_count": 101,
      "outputs": []
    },
    {
      "cell_type": "code",
      "source": [
        "print(Pathway[1])       #Take the index-1 from tuple\n",
        "print(Pathway[-2])      #Take the second last item from tuple\n",
        "print(Pathway[3:5])     #Take the index 3 to 4 from tuple\n",
        "print(Pathway[-4:-1])   #Take the index from -4 to -2 beside tuple"
      ],
      "metadata": {
        "colab": {
          "base_uri": "https://localhost:8080/"
        },
        "id": "wcq9flpjIUfc",
        "outputId": "a54c389c-5db1-41b8-bb45-0d87c5ec028f"
      },
      "execution_count": 102,
      "outputs": [
        {
          "output_type": "stream",
          "name": "stdout",
          "text": [
            "Career Ready Track\n",
            "Adobe Certified Professional in Video Design\n",
            "('Adobe Certified Professional in Visual Design', 'Adobe Certified Professional in Video Design')\n",
            "('Ms. Office Specialist Expert', 'Adobe Certified Professional in Visual Design', 'Adobe Certified Professional in Video Design')\n"
          ]
        }
      ]
    },
    {
      "cell_type": "markdown",
      "source": [
        "# 3. Tuple"
      ],
      "metadata": {
        "id": "04Qho5PZoUhX"
      }
    },
    {
      "cell_type": "markdown",
      "source": [
        "A tuple is a collection of objects which ordered and immutable. Tuples are sequences, just like lists. The differences between tuples and lists are the tuples cannot be changed unlike lists and tuples use parentheses(), whereas lists use square brackets[].\n",
        "\n",
        "A tuple can have any number of items and they may be of different types (integer, float, list, string, etc)."
      ],
      "metadata": {
        "id": "JnzaNI06o0kt"
      }
    },
    {
      "cell_type": "code",
      "execution_count": 75,
      "metadata": {
        "id": "Nmtb05TjYUKu"
      },
      "outputs": [],
      "source": [
        "data1 = (\"Chris\",21,170.8,\"Jakarta\",\"Data Science Track\")\n",
        "data2 = (\"Rayna\",19,165.5,\"Denpasar\",\"Career Ready Track\")"
      ]
    },
    {
      "cell_type": "code",
      "source": [
        "print(\"the type of data is\",type(data1))\n",
        "print(\"the type of data is\",type(data2))"
      ],
      "metadata": {
        "colab": {
          "base_uri": "https://localhost:8080/"
        },
        "id": "cNOZPzgMzOql",
        "outputId": "3ce3da06-bb02-4723-95bb-d80557664c51"
      },
      "execution_count": 76,
      "outputs": [
        {
          "output_type": "stream",
          "name": "stdout",
          "text": [
            "the type of data is <class 'tuple'>\n",
            "the type of data is <class 'tuple'>\n"
          ]
        }
      ]
    },
    {
      "cell_type": "markdown",
      "source": [
        "**Access Tuple Item**\n",
        "\n",
        "To access an item ​​in tuples, we can use square brackets to slice along with the index or to get the values ​​available at that index. For example :"
      ],
      "metadata": {
        "id": "17A3Dhku3rsk"
      }
    },
    {
      "cell_type": "code",
      "source": [
        "print(data1[0]) #The index of 0 refers to the first item"
      ],
      "metadata": {
        "colab": {
          "base_uri": "https://localhost:8080/"
        },
        "id": "3Nm_fRvGvmch",
        "outputId": "9ee846a4-9034-4ad9-df1c-f546f26b2ab8"
      },
      "execution_count": 77,
      "outputs": [
        {
          "output_type": "stream",
          "name": "stdout",
          "text": [
            "Chris\n"
          ]
        }
      ]
    },
    {
      "cell_type": "code",
      "source": [
        "print(data1[-2]) #The index of -2 refers to the second last item in tuple"
      ],
      "metadata": {
        "colab": {
          "base_uri": "https://localhost:8080/"
        },
        "id": "afbieTz4Eg3h",
        "outputId": "e36397c0-9232-4678-ce30-b11b7ae06c73"
      },
      "execution_count": 78,
      "outputs": [
        {
          "output_type": "stream",
          "name": "stdout",
          "text": [
            "Jakarta\n"
          ]
        }
      ]
    },
    {
      "cell_type": "code",
      "source": [
        "print(data1[1:3]) #The search will start at index 1 (included) and end at index 3 (excluded"
      ],
      "metadata": {
        "colab": {
          "base_uri": "https://localhost:8080/"
        },
        "id": "F2Juch5lEhZ2",
        "outputId": "fd393534-347e-475a-c60c-1fa77f83b64e"
      },
      "execution_count": 79,
      "outputs": [
        {
          "output_type": "stream",
          "name": "stdout",
          "text": [
            "(21, 170.8)\n"
          ]
        }
      ]
    },
    {
      "cell_type": "code",
      "source": [
        "print(data1[:5]) #The index will start from the beginning to index 4"
      ],
      "metadata": {
        "colab": {
          "base_uri": "https://localhost:8080/"
        },
        "id": "dwZhJxdSEh8r",
        "outputId": "fb3db770-adc0-4650-9421-22798a0f39a2"
      },
      "execution_count": 80,
      "outputs": [
        {
          "output_type": "stream",
          "name": "stdout",
          "text": [
            "('Chris', 21, 170.8, 'Jakarta', 'Data Science Track')\n"
          ]
        }
      ]
    },
    {
      "cell_type": "markdown",
      "source": [
        "**Tuple Length**\n",
        "\n",
        "To determine how many items a tuple has, you can use the len() function:"
      ],
      "metadata": {
        "id": "BNUeLvEQVDe9"
      }
    },
    {
      "cell_type": "code",
      "source": [
        "class_program = (\"Microsft Excel Associate\",\"Microsoft Excel Expert\",\"Phyton\",\"Azure DP-900\", \"Azure AZ-900\")"
      ],
      "metadata": {
        "id": "D9iZhEq_7vQD"
      },
      "execution_count": 81,
      "outputs": []
    },
    {
      "cell_type": "code",
      "source": [
        "print(len(class_program))"
      ],
      "metadata": {
        "colab": {
          "base_uri": "https://localhost:8080/"
        },
        "id": "HTkdpP_yVssv",
        "outputId": "1e508541-5e4a-4e5d-cb55-81721b232314"
      },
      "execution_count": 82,
      "outputs": [
        {
          "output_type": "stream",
          "name": "stdout",
          "text": [
            "5\n"
          ]
        }
      ]
    },
    {
      "cell_type": "markdown",
      "source": [
        "# 4. Set"
      ],
      "metadata": {
        "id": "Gsbx3_RvxmKt"
      }
    },
    {
      "cell_type": "markdown",
      "source": [
        "Data Set is a collection of items that are unique and unordered collection. Sets are formed with curly brackets {} and separated by commas (,). In Set we can also do duplicate item removal."
      ],
      "metadata": {
        "id": "uPrT2Ri8yHIp"
      }
    },
    {
      "cell_type": "code",
      "source": [
        "Name = {\"E\",\"L\",\"E\",\"N\",\"A\"}\n",
        "Phone_number = {0,5,6,3,7,6,6,2,7}"
      ],
      "metadata": {
        "id": "fBTEXC4myOGq"
      },
      "execution_count": 83,
      "outputs": []
    },
    {
      "cell_type": "code",
      "source": [
        "print(Name)   # This command will display the name, and we will know that the duplicate data was be deleted\n",
        "print(Phone_number) # Twin numbers are only displayed one in sequence"
      ],
      "metadata": {
        "colab": {
          "base_uri": "https://localhost:8080/"
        },
        "id": "0qrPCYhT86R1",
        "outputId": "bfe5a3c2-e3f8-41dd-ec49-53c7adadfcc0"
      },
      "execution_count": 84,
      "outputs": [
        {
          "output_type": "stream",
          "name": "stdout",
          "text": [
            "{'N', 'E', 'A', 'L'}\n",
            "{0, 2, 3, 5, 6, 7}\n"
          ]
        }
      ]
    },
    {
      "cell_type": "markdown",
      "source": [
        "Because it's unordered, then the items in the data cannot be taken partially/slicing."
      ],
      "metadata": {
        "id": "bqvpp3MR9ABN"
      }
    },
    {
      "cell_type": "code",
      "source": [
        "print(Name[2]) # This command will be an Error, according to the character of the data Set"
      ],
      "metadata": {
        "colab": {
          "base_uri": "https://localhost:8080/",
          "height": 171
        },
        "id": "6BXzpY9C9BgJ",
        "outputId": "ad12d1e2-af3f-48f0-97c3-ebb8d099cb04"
      },
      "execution_count": 85,
      "outputs": [
        {
          "output_type": "error",
          "ename": "TypeError",
          "evalue": "ignored",
          "traceback": [
            "\u001b[0;31m---------------------------------------------------------------------------\u001b[0m",
            "\u001b[0;31mTypeError\u001b[0m                                 Traceback (most recent call last)",
            "\u001b[0;32m<ipython-input-85-d48c5c2cfecb>\u001b[0m in \u001b[0;36m<module>\u001b[0;34m()\u001b[0m\n\u001b[0;32m----> 1\u001b[0;31m \u001b[0mprint\u001b[0m\u001b[0;34m(\u001b[0m\u001b[0mName\u001b[0m\u001b[0;34m[\u001b[0m\u001b[0;36m2\u001b[0m\u001b[0;34m]\u001b[0m\u001b[0;34m)\u001b[0m \u001b[0;31m# This command will be an Error, according to the character of the data Set\u001b[0m\u001b[0;34m\u001b[0m\u001b[0;34m\u001b[0m\u001b[0m\n\u001b[0m",
            "\u001b[0;31mTypeError\u001b[0m: 'set' object is not subscriptable"
          ]
        }
      ]
    },
    {
      "cell_type": "markdown",
      "source": [
        "# 5. Dictionary"
      ],
      "metadata": {
        "id": "Lr9ol56uxrUJ"
      }
    },
    {
      "cell_type": "markdown",
      "source": [
        "Dictionary is a data type whose members consist of key:value pairs (key:value). Dictionary is unordered (unordered) so that its members do not have an index.\n",
        "\n",
        "A dictionary is created by placing its members inside curly braces { }, separated by commas.\n",
        "\n",
        "The dictionary members consist of key:value pairs. The key must be unique, there cannot be two identical keys in the dictionary."
      ],
      "metadata": {
        "id": "sVRKE4_Tx2A-"
      }
    },
    {
      "cell_type": "code",
      "source": [
        "identity = {\"name\": \"andi\", \"class\": \"data science track B\", \"class hours\": 2}"
      ],
      "metadata": {
        "id": "uhJIQXeKxu7t"
      },
      "execution_count": 86,
      "outputs": []
    },
    {
      "cell_type": "code",
      "source": [
        "identity[\"name\"] # This command will display the \"value\" of the key named \"name\""
      ],
      "metadata": {
        "colab": {
          "base_uri": "https://localhost:8080/",
          "height": 36
        },
        "id": "lV9hDtIB33O9",
        "outputId": "cf1124c5-cbfb-4f9c-e8e5-32f1e7534ddc"
      },
      "execution_count": 87,
      "outputs": [
        {
          "output_type": "execute_result",
          "data": {
            "text/plain": [
              "'andi'"
            ],
            "application/vnd.google.colaboratory.intrinsic+json": {
              "type": "string"
            }
          },
          "metadata": {},
          "execution_count": 87
        }
      ]
    },
    {
      "cell_type": "code",
      "source": [
        "identity[\"class\"] # This command will display the \"value\" of the key named \"class\""
      ],
      "metadata": {
        "colab": {
          "base_uri": "https://localhost:8080/",
          "height": 36
        },
        "id": "TpaSla-E4a5Z",
        "outputId": "0189920a-29b3-4d46-e105-48824f8d6e63"
      },
      "execution_count": 88,
      "outputs": [
        {
          "output_type": "execute_result",
          "data": {
            "text/plain": [
              "'data science track B'"
            ],
            "application/vnd.google.colaboratory.intrinsic+json": {
              "type": "string"
            }
          },
          "metadata": {},
          "execution_count": 88
        }
      ]
    },
    {
      "cell_type": "code",
      "source": [
        "identity[\"class hours\"] # This command will display the \"value\" of the key named \"class hours\""
      ],
      "metadata": {
        "colab": {
          "base_uri": "https://localhost:8080/"
        },
        "id": "vRsPo7m-B8I7",
        "outputId": "c47ceab7-e039-4077-93c4-f50f90e6dad5"
      },
      "execution_count": 89,
      "outputs": [
        {
          "output_type": "execute_result",
          "data": {
            "text/plain": [
              "2"
            ]
          },
          "metadata": {},
          "execution_count": 89
        }
      ]
    },
    {
      "cell_type": "markdown",
      "source": [
        "**\"Key\" = Integer**"
      ],
      "metadata": {
        "id": "RwiBR2Ih4EC6"
      }
    },
    {
      "cell_type": "code",
      "source": [
        "pathway = {1: \"Data Science Track\", 2: \"Career Ready Track\", 3: \"Adobe Certified Professional in Visual Design\"}"
      ],
      "metadata": {
        "id": "Ey4nx50m6IQL"
      },
      "execution_count": 90,
      "outputs": []
    },
    {
      "cell_type": "code",
      "source": [
        "pathway[2] # This command will return the \"value\" of the integer \"key\" named \"2\""
      ],
      "metadata": {
        "colab": {
          "base_uri": "https://localhost:8080/",
          "height": 36
        },
        "id": "MAuzThEH6waE",
        "outputId": "1a4462f6-eaa3-4042-cd56-877e42943ac9"
      },
      "execution_count": 91,
      "outputs": [
        {
          "output_type": "execute_result",
          "data": {
            "text/plain": [
              "'Career Ready Track'"
            ],
            "application/vnd.google.colaboratory.intrinsic+json": {
              "type": "string"
            }
          },
          "metadata": {},
          "execution_count": 91
        }
      ]
    },
    {
      "cell_type": "code",
      "source": [
        "pathway[1] # This command will return the \"value\" of the integer \"key\" named \"1\""
      ],
      "metadata": {
        "colab": {
          "base_uri": "https://localhost:8080/",
          "height": 36
        },
        "id": "tth7xoud65t6",
        "outputId": "b4159b8e-7104-475d-b85a-b04ccdfe5d0e"
      },
      "execution_count": 92,
      "outputs": [
        {
          "output_type": "execute_result",
          "data": {
            "text/plain": [
              "'Data Science Track'"
            ],
            "application/vnd.google.colaboratory.intrinsic+json": {
              "type": "string"
            }
          },
          "metadata": {},
          "execution_count": 92
        }
      ]
    },
    {
      "cell_type": "markdown",
      "source": [
        "**\"Value\" = List**"
      ],
      "metadata": {
        "id": "jB7jJZ0N7CJN"
      }
    },
    {
      "cell_type": "code",
      "source": [
        "MyEduSolve = {\"Class MyEduSolve\": [\"Pathway Class\", \"Career Mentoring Class\", \"1 on 1 Class\", \"Masterclass\", \"Sandbox Class\"]}"
      ],
      "metadata": {
        "id": "K7E8nv_x7Xp9"
      },
      "execution_count": 93,
      "outputs": []
    },
    {
      "cell_type": "code",
      "source": [
        "MyEduSolve[\"Class MyEduSolve\"] # This command will display the \"value\" in the form of a \"list\" of \"key\" named \"class MyEduSolve\""
      ],
      "metadata": {
        "colab": {
          "base_uri": "https://localhost:8080/"
        },
        "id": "AobOtT9CC0xP",
        "outputId": "57548a22-4683-4ffb-bfcc-eae1806d966c"
      },
      "execution_count": 94,
      "outputs": [
        {
          "output_type": "execute_result",
          "data": {
            "text/plain": [
              "['Pathway Class',\n",
              " 'Career Mentoring Class',\n",
              " '1 on 1 Class',\n",
              " 'Masterclass',\n",
              " 'Sandbox Class']"
            ]
          },
          "metadata": {},
          "execution_count": 94
        }
      ]
    }
  ]
}