{
  "nbformat": 4,
  "nbformat_minor": 0,
  "metadata": {
    "colab": {
      "name": "Tugas Portofolio 2.ipynb",
      "provenance": [],
      "collapsed_sections": [],
      "include_colab_link": true
    },
    "kernelspec": {
      "name": "python3",
      "display_name": "Python 3"
    },
    "language_info": {
      "name": "python"
    }
  },
  "cells": [
    {
      "cell_type": "markdown",
      "metadata": {
        "id": "view-in-github",
        "colab_type": "text"
      },
      "source": [
        "<a href=\"https://colab.research.google.com/github/viviindahf/Tipe-Data-Kolektif-Phyton/blob/main/Tugas_Portofolio_2.ipynb\" target=\"_parent\"><img src=\"https://colab.research.google.com/assets/colab-badge.svg\" alt=\"Open In Colab\"/></a>"
      ]
    },
    {
      "cell_type": "markdown",
      "source": [
        "# **Collection Data Type In Phyton**"
      ],
      "metadata": {
        "id": "lVGiGRBKvRT6"
      }
    },
    {
      "cell_type": "markdown",
      "source": [
        "Python has 4 built-in data structures that can be used to hold a collection of objects. The built-in data structures are : list, tuple, set and dictionary. They can be distinguished into mutable, immutable, set type, and mappings respectively."
      ],
      "metadata": {
        "id": "3JIGduDqvZwI"
      }
    },
    {
      "cell_type": "markdown",
      "source": [
        "# Learning Objective"
      ],
      "metadata": {
        "id": "6irAYK9ftt-I"
      }
    },
    {
      "cell_type": "markdown",
      "source": [
        "* To understand what list, tuple, set, and dictionary are in Phyton\n",
        "* To find out the difference between each collective data type in python\n",
        "*   To learn how to use list, tuple, set, and dictionary in Python programs.\n",
        "*   To learn how to use indexing and slicing to access data in Python programs.\n",
        "\n",
        "\n",
        "\n"
      ],
      "metadata": {
        "id": "-nThv7zdt4WN"
      }
    },
    {
      "cell_type": "markdown",
      "source": [
        "# 1. Lists"
      ],
      "metadata": {
        "id": "YnbINIWAfbKP"
      }
    },
    {
      "cell_type": "markdown",
      "source": [
        "A list is a data structure in python that is a mutable, or changable, ordered sequence of elements. Each element or value that is inside of a list called an item. Just as strings are defined as characters between quotes, lists are defined by having values between square brackets."
      ],
      "metadata": {
        "id": "EtWUtOlFA7Wl"
      }
    },
    {
      "cell_type": "code",
      "source": [
        "University = [\"itb\",\"uns\",\"ugm\",\"undiksha\",\"binus\",\"unram\"]"
      ],
      "metadata": {
        "id": "7v6d1ygBA095"
      },
      "execution_count": null,
      "outputs": []
    },
    {
      "cell_type": "code",
      "source": [
        "print(University)"
      ],
      "metadata": {
        "colab": {
          "base_uri": "https://localhost:8080/"
        },
        "id": "Fp3yg_XUJSSc",
        "outputId": "f9f27884-7583-4aa5-bb8f-c5eacdc35f45"
      },
      "execution_count": null,
      "outputs": [
        {
          "output_type": "stream",
          "name": "stdout",
          "text": [
            "['itb', 'uns', 'ugm', 'undiksha', 'binus', 'unram']\n"
          ]
        }
      ]
    },
    {
      "cell_type": "code",
      "source": [
        "print(University[2])"
      ],
      "metadata": {
        "colab": {
          "base_uri": "https://localhost:8080/"
        },
        "id": "3NYjMSTuKZ0z",
        "outputId": "f904b80e-5010-430c-d661-60e6405bcee8"
      },
      "execution_count": null,
      "outputs": [
        {
          "output_type": "stream",
          "name": "stdout",
          "text": [
            "ugm\n"
          ]
        }
      ]
    },
    {
      "cell_type": "code",
      "source": [
        "University.append(\"unair\")"
      ],
      "metadata": {
        "id": "HxXhF7loLv-x"
      },
      "execution_count": null,
      "outputs": []
    },
    {
      "cell_type": "code",
      "source": [
        "University.extend([\"telkom\",\"unpad\"])"
      ],
      "metadata": {
        "id": "wiDx-DgML4N8"
      },
      "execution_count": null,
      "outputs": []
    },
    {
      "cell_type": "code",
      "source": [
        "University.insert(3,\"unud\")"
      ],
      "metadata": {
        "id": "03KD2t1KMHiI"
      },
      "execution_count": null,
      "outputs": []
    },
    {
      "cell_type": "code",
      "source": [
        "University.remove(\"ugm\")"
      ],
      "metadata": {
        "id": "4JjMuUC1Mnfq"
      },
      "execution_count": null,
      "outputs": []
    },
    {
      "cell_type": "code",
      "source": [
        "print(University)"
      ],
      "metadata": {
        "colab": {
          "base_uri": "https://localhost:8080/"
        },
        "id": "MUPkibvCMycK",
        "outputId": "a7615cba-91cf-4dd6-8ad7-864d632bdcc0"
      },
      "execution_count": null,
      "outputs": [
        {
          "output_type": "stream",
          "name": "stdout",
          "text": [
            "['itb', 'undiksha', 'binus', 'unram', 'unair', 'telkom', 'unpad']\n"
          ]
        }
      ]
    },
    {
      "cell_type": "code",
      "source": [
        "len(University)"
      ],
      "metadata": {
        "colab": {
          "base_uri": "https://localhost:8080/"
        },
        "id": "UB1h_UfwOkX0",
        "outputId": "1fd928d3-74cf-4bef-9d8d-372c417e5721"
      },
      "execution_count": null,
      "outputs": [
        {
          "output_type": "execute_result",
          "data": {
            "text/plain": [
              "7"
            ]
          },
          "metadata": {},
          "execution_count": 31
        }
      ]
    },
    {
      "cell_type": "code",
      "source": [
        "University.sort()"
      ],
      "metadata": {
        "id": "Tbgp7-_cOqoI"
      },
      "execution_count": null,
      "outputs": []
    },
    {
      "cell_type": "code",
      "source": [
        "print(University)"
      ],
      "metadata": {
        "colab": {
          "base_uri": "https://localhost:8080/"
        },
        "id": "4srsfttuPE3O",
        "outputId": "dead0d55-d32b-41cf-9468-7ce60b75da7e"
      },
      "execution_count": null,
      "outputs": [
        {
          "output_type": "stream",
          "name": "stdout",
          "text": [
            "['binus', 'itb', 'telkom', 'unair', 'undiksha', 'unpad', 'unram']\n"
          ]
        }
      ]
    },
    {
      "cell_type": "code",
      "source": [
        "University.reverse()"
      ],
      "metadata": {
        "id": "Lz4Z92oPPHbg"
      },
      "execution_count": null,
      "outputs": []
    },
    {
      "cell_type": "code",
      "source": [
        "print(University)"
      ],
      "metadata": {
        "colab": {
          "base_uri": "https://localhost:8080/"
        },
        "id": "oQRcxEeaPOiy",
        "outputId": "8e892027-fb39-4ed5-80f9-2cc54ffe31f0"
      },
      "execution_count": null,
      "outputs": [
        {
          "output_type": "stream",
          "name": "stdout",
          "text": [
            "['unram', 'unpad', 'undiksha', 'unair', 'telkom', 'itb', 'binus']\n"
          ]
        }
      ]
    },
    {
      "cell_type": "code",
      "source": [
        "University.index(\"unpad\")"
      ],
      "metadata": {
        "colab": {
          "base_uri": "https://localhost:8080/"
        },
        "id": "22W8sBEvPTiC",
        "outputId": "0459d0f1-e7c5-40f5-db2e-e18495ff8b2c"
      },
      "execution_count": null,
      "outputs": [
        {
          "output_type": "execute_result",
          "data": {
            "text/plain": [
              "1"
            ]
          },
          "metadata": {},
          "execution_count": 43
        }
      ]
    },
    {
      "cell_type": "markdown",
      "source": [
        "# 2. Slicing"
      ],
      "metadata": {
        "id": "7yJ943fGgX8m"
      }
    },
    {
      "cell_type": "markdown",
      "source": [
        "Slicing is a technique for selecting a data or some data from a data set.\n",
        "\n",
        "Slicing can be used in the use of number, string, list, or tuple data types."
      ],
      "metadata": {
        "id": "j2vV-tlGgmNH"
      }
    },
    {
      "cell_type": "markdown",
      "source": [
        "*Slicing In Number*"
      ],
      "metadata": {
        "id": "dZPqCa08nO11"
      }
    },
    {
      "cell_type": "code",
      "source": [
        "Height = 156, 170.4, 160, 167, 163.7, 172 "
      ],
      "metadata": {
        "id": "SJ-Wq0LKglRt"
      },
      "execution_count": null,
      "outputs": []
    },
    {
      "cell_type": "code",
      "source": [
        "print(Height[2])      #This command will display the Height of the body in the index 2\n",
        "print(Height[:])      #This command indicates all the data in the list, because the index [:] shows all the data\n",
        "print(Height[1:3])    #In the use of slicing, the last order is not read. Thus the writing [1:3] executed is the index of the 1st to the 2nd\n",
        "print(Height[:4])     #command [:4] indicates that the data selected is from index 0 (as default) to 3rd index (because the 4th index is not readable)\n",
        "print(Height[0:6:2])  #This command indicates that the selected data is from index 0 to 6 where it will jump 2 index"
      ],
      "metadata": {
        "id": "zfkZ_nFAglgI",
        "colab": {
          "base_uri": "https://localhost:8080/"
        },
        "outputId": "6a3cdba7-1840-40da-9930-83afe2023ce7"
      },
      "execution_count": null,
      "outputs": [
        {
          "output_type": "stream",
          "name": "stdout",
          "text": [
            "160\n",
            "(156, 170.4, 160, 167, 163.7, 172)\n",
            "(170.4, 160)\n",
            "(156, 170.4, 160, 167)\n",
            "(156, 160, 163.7)\n"
          ]
        }
      ]
    },
    {
      "cell_type": "markdown",
      "source": [
        "*Slicing In String*\n",
        "\n",
        "Strings have similarities to list, so operators [] can also be used on strings to retrieve their contents or even substring. Whole strings are mutable, while elements are immutable."
      ],
      "metadata": {
        "id": "OCCwI-iM9fFD"
      }
    },
    {
      "cell_type": "code",
      "source": [
        "Job = \"Data Science and Data Analyst\""
      ],
      "metadata": {
        "id": "9ZurIjEE-LaB"
      },
      "execution_count": null,
      "outputs": []
    },
    {
      "cell_type": "code",
      "source": [
        "print(Job[5])          #Take the fifth character from the Job string\n",
        "print(Job[:13])        #Take the index of characters 0 to 12th from the Job string\n",
        "print(Job[17:])        #Take the index of characters 17th to last from the Job string\n",
        "print(Job[-5])         #Take Take 5th character from the back of the Job string\n",
        "print(Job[-4:])        #Take the last 4 characters until they run out of the Job string\n",
        "print(Job[2:14:3])     #Take characters with index 2nd to 13th from Job string and each take jump 3 index"
      ],
      "metadata": {
        "colab": {
          "base_uri": "https://localhost:8080/"
        },
        "id": "xVKzwmzq-R80",
        "outputId": "37eb3829-6f43-46d4-9868-01bf3169edad"
      },
      "execution_count": null,
      "outputs": [
        {
          "output_type": "stream",
          "name": "stdout",
          "text": [
            "S\n",
            "Data Science \n",
            "Data Analyst\n",
            "a\n",
            "lyst\n",
            "tSee\n"
          ]
        }
      ]
    },
    {
      "cell_type": "markdown",
      "source": [
        "*Slicing In List*"
      ],
      "metadata": {
        "id": "_2tcy0WaBd5i"
      }
    },
    {
      "cell_type": "code",
      "source": [
        "Biodata = [\"Neymar\", 20, 175.2, \"Bandung\", \"Microsoft Office Specialist\"]"
      ],
      "metadata": {
        "id": "0cgR5XO_BIxf"
      },
      "execution_count": null,
      "outputs": []
    },
    {
      "cell_type": "code",
      "source": [
        "print(Biodata[2])    #Take the second index from the Biodata list\n",
        "print(Biodata[:1])   #Take the zero index from the Biodata list\n",
        "print(Biodata[-3])   #Take the index to three in reverse from Biodata list\n",
        "print(Biodata[0:7])  #Take the index 0 to 6 from the Biodata list. Although the Biodata only reaches the 3rd index, it will only display all existing lists."
      ],
      "metadata": {
        "colab": {
          "base_uri": "https://localhost:8080/"
        },
        "id": "mtQ6C2RXC25D",
        "outputId": "07fd7b6d-143d-4c22-e915-77bd65c8c5d4"
      },
      "execution_count": null,
      "outputs": [
        {
          "output_type": "stream",
          "name": "stdout",
          "text": [
            "175.2\n",
            "['Neymar']\n",
            "175.2\n",
            "['Neymar', 20, 175.2, 'Bandung', 'Microsoft Office Specialist']\n"
          ]
        }
      ]
    },
    {
      "cell_type": "markdown",
      "source": [
        "*Slicing In Tuple*"
      ],
      "metadata": {
        "id": "b5e476REE_Jj"
      }
    },
    {
      "cell_type": "code",
      "source": [
        "Pathway = (\"Data Science Track\", \"Career Ready Track\", \"Ms. Office Specialist Expert\", \"Adobe Certified Professional in Visual Design\", \"Adobe Certified Professional in Video Design\", \"21st Century Educator\")"
      ],
      "metadata": {
        "id": "KjhrEJ4hFHbj"
      },
      "execution_count": null,
      "outputs": []
    },
    {
      "cell_type": "code",
      "source": [
        "print(Pathway[1])       #Take the index-1 from tuple\n",
        "print(Pathway[-2])      #Take the second last item from tuple\n",
        "print(Pathway[3:5])     #Take the index 3 to 4 from tuple\n",
        "print(Pathway[-4:-1])   #Take the index from -4 to -2 beside tuple"
      ],
      "metadata": {
        "colab": {
          "base_uri": "https://localhost:8080/"
        },
        "id": "wcq9flpjIUfc",
        "outputId": "56244a6e-d801-410f-ba37-7a116b5cfb39"
      },
      "execution_count": null,
      "outputs": [
        {
          "output_type": "stream",
          "name": "stdout",
          "text": [
            "Career Ready Track\n",
            "Adobe Certified Professional in Video Design\n",
            "('Adobe Certified Professional in Visual Design', 'Adobe Certified Professional in Video Design')\n",
            "('Ms. Office Specialist Expert', 'Adobe Certified Professional in Visual Design', 'Adobe Certified Professional in Video Design')\n"
          ]
        }
      ]
    },
    {
      "cell_type": "markdown",
      "source": [
        "# 3. Tuple"
      ],
      "metadata": {
        "id": "04Qho5PZoUhX"
      }
    },
    {
      "cell_type": "markdown",
      "source": [
        "A tuple is a collection of objects which ordered and immutable. Tuples are sequences, just like lists. The differences between tuples and lists are the tuples cannot be changed unlike lists and tuples use parentheses(), whereas lists use square brackets[].\n",
        "\n",
        "A tuple can have any number of items and they may be of different types (integer, float, list, string, etc)."
      ],
      "metadata": {
        "id": "JnzaNI06o0kt"
      }
    },
    {
      "cell_type": "code",
      "execution_count": null,
      "metadata": {
        "id": "Nmtb05TjYUKu"
      },
      "outputs": [],
      "source": [
        "data1 = (\"Chris\",21,170.8,\"Jakarta\",\"Data Science Track\")\n",
        "data2 = (\"Rayna\",19,165.5,\"Denpasar\",\"Career Ready Track\")"
      ]
    },
    {
      "cell_type": "code",
      "source": [
        "print(\"the type of data is\",type(data1))\n",
        "print(\"the type of data is\",type(data2))"
      ],
      "metadata": {
        "colab": {
          "base_uri": "https://localhost:8080/"
        },
        "id": "cNOZPzgMzOql",
        "outputId": "1af4ef84-27f4-4eb3-ea46-c0ea1c44a04b"
      },
      "execution_count": null,
      "outputs": [
        {
          "output_type": "stream",
          "name": "stdout",
          "text": [
            "the type of data is <class 'tuple'>\n",
            "the type of data is <class 'tuple'>\n"
          ]
        }
      ]
    },
    {
      "cell_type": "markdown",
      "source": [
        "**Access Tuple Item**\n",
        "\n",
        "To access an item ​​in tuples, we can use square brackets to slice along with the index or to get the values ​​available at that index. For example :"
      ],
      "metadata": {
        "id": "17A3Dhku3rsk"
      }
    },
    {
      "cell_type": "code",
      "source": [
        "print(data1[0]) #The index of 0 refers to the first item\n",
        "print(data1[-2]) #The index of -2 refers to the second last item in tuple\n",
        "print(data1[1:3]) #The search will start at index 1 (included) and end at index 3 (excluded).\n",
        "print(data1[:5]) #The index will start from the beginning to index 4"
      ],
      "metadata": {
        "colab": {
          "base_uri": "https://localhost:8080/"
        },
        "id": "3Nm_fRvGvmch",
        "outputId": "cfca21e4-f04b-4b9a-f93b-696fd76c4c55"
      },
      "execution_count": null,
      "outputs": [
        {
          "output_type": "stream",
          "name": "stdout",
          "text": [
            "Chris\n",
            "Jakarta\n",
            "(21, 170.8)\n",
            "('Chris', 21, 170.8, 'Jakarta', 'Data Science Track')\n"
          ]
        }
      ]
    },
    {
      "cell_type": "markdown",
      "source": [
        "**Tuple Length**\n",
        "\n",
        "To determine how many items a tuple has, you can use the len() function:"
      ],
      "metadata": {
        "id": "BNUeLvEQVDe9"
      }
    },
    {
      "cell_type": "code",
      "source": [
        "class_program = (\"Microsft Excel Associate\",\"Microsoft Excel Expert\",\"Phyton\",\"Azure DP-900\", \"Azure AZ-900\")"
      ],
      "metadata": {
        "id": "D9iZhEq_7vQD"
      },
      "execution_count": null,
      "outputs": []
    },
    {
      "cell_type": "code",
      "source": [
        "print(len(class_program))"
      ],
      "metadata": {
        "colab": {
          "base_uri": "https://localhost:8080/"
        },
        "id": "HTkdpP_yVssv",
        "outputId": "f8897a6d-bbc5-45e9-ee68-310a325322d6"
      },
      "execution_count": null,
      "outputs": [
        {
          "output_type": "stream",
          "name": "stdout",
          "text": [
            "5\n"
          ]
        }
      ]
    },
    {
      "cell_type": "markdown",
      "source": [
        "# 4. Set"
      ],
      "metadata": {
        "id": "Gsbx3_RvxmKt"
      }
    },
    {
      "cell_type": "markdown",
      "source": [
        "Data Set is a collection of items that are unique and unordered collection. Sets are formed with curly brackets {} and separated by commas (,). In Set we can also do duplicate item removal."
      ],
      "metadata": {
        "id": "uPrT2Ri8yHIp"
      }
    },
    {
      "cell_type": "code",
      "source": [
        "Name = {\"E\",\"L\",\"E\",\"N\",\"A\"}\n",
        "Phone_number = {0,5,6,3,7,6,6,2,7}"
      ],
      "metadata": {
        "id": "fBTEXC4myOGq"
      },
      "execution_count": null,
      "outputs": []
    },
    {
      "cell_type": "code",
      "source": [
        "print(Name)   # This command will display the name, and we will know that the duplicate data was be deleted\n",
        "print(Phone_number) # Twin numbers are only displayed one in sequence"
      ],
      "metadata": {
        "colab": {
          "base_uri": "https://localhost:8080/"
        },
        "id": "0qrPCYhT86R1",
        "outputId": "68fe7258-a1ad-4f9f-98fd-781cb81f5598"
      },
      "execution_count": null,
      "outputs": [
        {
          "output_type": "stream",
          "name": "stdout",
          "text": [
            "{'N', 'L', 'A', 'E'}\n",
            "{0, 2, 3, 5, 6, 7}\n"
          ]
        }
      ]
    },
    {
      "cell_type": "markdown",
      "source": [
        "Because it's unordered, then the items in the data cannot be taken partially/slicing."
      ],
      "metadata": {
        "id": "bqvpp3MR9ABN"
      }
    },
    {
      "cell_type": "code",
      "source": [
        "print(Name[2]) # This command will be an Error, according to the character of the data Set"
      ],
      "metadata": {
        "colab": {
          "base_uri": "https://localhost:8080/",
          "height": 165
        },
        "id": "6BXzpY9C9BgJ",
        "outputId": "eb13ab92-1da4-4c92-b169-abf5fcf35361"
      },
      "execution_count": null,
      "outputs": [
        {
          "output_type": "error",
          "ename": "TypeError",
          "evalue": "ignored",
          "traceback": [
            "\u001b[0;31m---------------------------------------------------------------------------\u001b[0m",
            "\u001b[0;31mTypeError\u001b[0m                                 Traceback (most recent call last)",
            "\u001b[0;32m<ipython-input-7-d48c5c2cfecb>\u001b[0m in \u001b[0;36m<module>\u001b[0;34m()\u001b[0m\n\u001b[0;32m----> 1\u001b[0;31m \u001b[0mprint\u001b[0m\u001b[0;34m(\u001b[0m\u001b[0mName\u001b[0m\u001b[0;34m[\u001b[0m\u001b[0;36m2\u001b[0m\u001b[0;34m]\u001b[0m\u001b[0;34m)\u001b[0m \u001b[0;31m# This command will be an Error, according to the character of the data Set\u001b[0m\u001b[0;34m\u001b[0m\u001b[0;34m\u001b[0m\u001b[0m\n\u001b[0m",
            "\u001b[0;31mTypeError\u001b[0m: 'set' object is not subscriptable"
          ]
        }
      ]
    },
    {
      "cell_type": "markdown",
      "source": [
        "# 5. Dictionary"
      ],
      "metadata": {
        "id": "Lr9ol56uxrUJ"
      }
    },
    {
      "cell_type": "markdown",
      "source": [
        "Dictionary is a data type whose members consist of key:value pairs (key:value). Dictionary is unordered (unordered) so that its members do not have an index.\n",
        "\n",
        "A dictionary is created by placing its members inside curly braces { }, separated by commas.\n",
        "\n",
        "The dictionary members consist of key:value pairs. The key must be unique, there cannot be two identical keys in the dictionary."
      ],
      "metadata": {
        "id": "sVRKE4_Tx2A-"
      }
    },
    {
      "cell_type": "code",
      "source": [
        "identity = {\"name\": \"andi\", \"class\": \"data science track B\", \"class hours\": 2}"
      ],
      "metadata": {
        "id": "uhJIQXeKxu7t"
      },
      "execution_count": null,
      "outputs": []
    },
    {
      "cell_type": "code",
      "source": [
        "identity[\"name\"] # This command will display the \"value\" of the key named \"name\""
      ],
      "metadata": {
        "colab": {
          "base_uri": "https://localhost:8080/",
          "height": 35
        },
        "id": "lV9hDtIB33O9",
        "outputId": "26e21086-e1ba-4f29-d72a-ad995397cc75"
      },
      "execution_count": null,
      "outputs": [
        {
          "output_type": "execute_result",
          "data": {
            "text/plain": [
              "'andi'"
            ],
            "application/vnd.google.colaboratory.intrinsic+json": {
              "type": "string"
            }
          },
          "metadata": {},
          "execution_count": 13
        }
      ]
    },
    {
      "cell_type": "code",
      "source": [
        "identity[\"class\"] # This command will display the \"value\" of the key named \"class\""
      ],
      "metadata": {
        "colab": {
          "base_uri": "https://localhost:8080/",
          "height": 35
        },
        "id": "TpaSla-E4a5Z",
        "outputId": "60170409-8304-4855-8ed6-fb8a8ff23e0a"
      },
      "execution_count": null,
      "outputs": [
        {
          "output_type": "execute_result",
          "data": {
            "text/plain": [
              "'data science track B'"
            ],
            "application/vnd.google.colaboratory.intrinsic+json": {
              "type": "string"
            }
          },
          "metadata": {},
          "execution_count": 14
        }
      ]
    },
    {
      "cell_type": "code",
      "source": [
        "identity[\"class hours\"] # This command will display the \"value\" of the key named \"class hours\""
      ],
      "metadata": {
        "colab": {
          "base_uri": "https://localhost:8080/"
        },
        "id": "vRsPo7m-B8I7",
        "outputId": "3968de19-c77a-48ea-bf8c-2141f18c775f"
      },
      "execution_count": null,
      "outputs": [
        {
          "output_type": "execute_result",
          "data": {
            "text/plain": [
              "2"
            ]
          },
          "metadata": {},
          "execution_count": 30
        }
      ]
    },
    {
      "cell_type": "markdown",
      "source": [
        "**\"Key\" = Integer**"
      ],
      "metadata": {
        "id": "RwiBR2Ih4EC6"
      }
    },
    {
      "cell_type": "code",
      "source": [
        "pathway = {1: \"Data Science Track\", 2: \"Career Ready Track\", 3: \"Adobe Certified Professional in Visual Design\"}"
      ],
      "metadata": {
        "id": "Ey4nx50m6IQL"
      },
      "execution_count": null,
      "outputs": []
    },
    {
      "cell_type": "code",
      "source": [
        "pathway[2] # This command will return the \"value\" of the integer \"key\" named \"2\""
      ],
      "metadata": {
        "colab": {
          "base_uri": "https://localhost:8080/",
          "height": 35
        },
        "id": "MAuzThEH6waE",
        "outputId": "c23f9acd-6329-4efe-c472-4ec791f7a37a"
      },
      "execution_count": null,
      "outputs": [
        {
          "output_type": "execute_result",
          "data": {
            "text/plain": [
              "'Career Ready Track'"
            ],
            "application/vnd.google.colaboratory.intrinsic+json": {
              "type": "string"
            }
          },
          "metadata": {},
          "execution_count": 18
        }
      ]
    },
    {
      "cell_type": "code",
      "source": [
        "pathway[1] # This command will return the \"value\" of the integer \"key\" named \"1\""
      ],
      "metadata": {
        "colab": {
          "base_uri": "https://localhost:8080/",
          "height": 35
        },
        "id": "tth7xoud65t6",
        "outputId": "58f217b4-833c-482e-fe8f-9d5491b827d9"
      },
      "execution_count": null,
      "outputs": [
        {
          "output_type": "execute_result",
          "data": {
            "text/plain": [
              "'Data Science Track'"
            ],
            "application/vnd.google.colaboratory.intrinsic+json": {
              "type": "string"
            }
          },
          "metadata": {},
          "execution_count": 19
        }
      ]
    },
    {
      "cell_type": "markdown",
      "source": [
        "**\"Value\" = List**"
      ],
      "metadata": {
        "id": "jB7jJZ0N7CJN"
      }
    },
    {
      "cell_type": "code",
      "source": [
        "MyEduSolve = {\"Class MyEduSolve\": [\"Pathway Class\", \"Career Mentoring Class\", \"1 on 1 Class\", \"Masterclass\", \"Sandbox Class\"]}"
      ],
      "metadata": {
        "id": "K7E8nv_x7Xp9"
      },
      "execution_count": null,
      "outputs": []
    },
    {
      "cell_type": "code",
      "source": [
        "MyEduSolve[\"Class MyEduSolve\"] # This command will display the \"value\" in the form of a \"list\" of \"key\" named \"class MyEduSolve\""
      ],
      "metadata": {
        "colab": {
          "base_uri": "https://localhost:8080/"
        },
        "id": "AobOtT9CC0xP",
        "outputId": "846b3135-8c73-45ee-afc5-6e663ad55acf"
      },
      "execution_count": null,
      "outputs": [
        {
          "output_type": "execute_result",
          "data": {
            "text/plain": [
              "['Pathway Class',\n",
              " 'Career Mentoring Class',\n",
              " '1 on 1 Class',\n",
              " 'Masterclass',\n",
              " 'Sandbox Class']"
            ]
          },
          "metadata": {},
          "execution_count": 33
        }
      ]
    }
  ]
}